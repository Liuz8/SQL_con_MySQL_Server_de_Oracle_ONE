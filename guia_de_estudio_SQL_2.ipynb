{
 "cells": [
  {
   "cell_type": "markdown",
   "id": "424cc8bd",
   "metadata": {},
   "source": [
    "# Comando LIKE"
   ]
  },
  {
   "cell_type": "markdown",
   "id": "a8c86239",
   "metadata": {},
   "source": [
    "El comando **`LIKE`** en SQL se usa en cláusulas **`WHERE`** para buscar patrones dentro de una columna de texto.\n",
    "\n",
    "Ejemplo:\n",
    "\n",
    "```sql\n",
    "SELECT * FROM usuarios WHERE nombre LIKE 'Lu%';\n",
    "```\n",
    "\n",
    "- `%` = cualquier número de caracteres\n",
    "- `_` = un solo carácter\n",
    "\n",
    "Este ejemplo busca todos los nombres que **empiezan con “Lu”**, como *Luis* o *Lucía*.\n"
   ]
  },
  {
   "cell_type": "markdown",
   "id": "e1c7e43f",
   "metadata": {},
   "source": [
    "# Comando DISTINCT"
   ]
  },
  {
   "cell_type": "markdown",
   "id": "43db67dc",
   "metadata": {},
   "source": [
    "El comando **`DISTINCT`** en SQL se usa para **eliminar valores duplicados** en los resultados de una consulta.\n",
    "\n",
    "Ejemplo:\n",
    "\n",
    "```sql\n",
    "SELECT DISTINCT ciudad FROM clientes;\n",
    "```\n",
    "\n",
    "Este ejemplo devuelve **solo una vez cada ciudad**, aunque haya muchos clientes de la misma.\n"
   ]
  },
  {
   "cell_type": "markdown",
   "id": "4942a862",
   "metadata": {},
   "source": [
    "# Comando LIMIT"
   ]
  },
  {
   "cell_type": "markdown",
   "id": "3466cb9b",
   "metadata": {},
   "source": [
    "El comando **`LIMIT`** en SQL se usa para **restringir la cantidad de filas** que devuelve una consulta.  \n",
    "\n",
    "Ejemplo:  \n",
    "```sql\n",
    "SELECT * FROM productos LIMIT 5;\n",
    "```\n",
    "Este ejemplo muestra **solo las primeras 5 filas** del resultado.  \n",
    "\n",
    "También puedes usar:  \n",
    "```sql\n",
    "SELECT * FROM productos LIMIT 5 OFFSET 10;\n",
    "```\n",
    "Esto **omite las primeras 10 filas** y muestra las **siguientes 5**."
   ]
  },
  {
   "cell_type": "markdown",
   "id": "fc00c4cd",
   "metadata": {},
   "source": [
    "# Comando ORDER BY"
   ]
  },
  {
   "cell_type": "markdown",
   "id": "7e3b74d2",
   "metadata": {},
   "source": [
    "El comando **`ORDER BY`** en SQL se usa para **ordenar los resultados** de una consulta, ya sea en orden **ascendente (ASC)** o **descendente (DESC)**.  \n",
    "\n",
    "Ejemplo:  \n",
    "```sql\n",
    "SELECT * FROM empleados ORDER BY salario DESC;\n",
    "```\n",
    "Este ejemplo muestra los empleados **del salario más alto al más bajo**.  \n",
    "\n",
    "Por defecto, si no se indica nada, el orden es **ASC (ascendente)**."
   ]
  },
  {
   "cell_type": "markdown",
   "id": "8dff3f02",
   "metadata": {},
   "source": []
  }
 ],
 "metadata": {
  "language_info": {
   "name": "python"
  }
 },
 "nbformat": 4,
 "nbformat_minor": 5
}
