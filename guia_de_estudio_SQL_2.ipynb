{
 "cells": [
  {
   "cell_type": "markdown",
   "id": "424cc8bd",
   "metadata": {},
   "source": [
    "# Comando LIKE"
   ]
  },
  {
   "cell_type": "markdown",
   "id": "a8c86239",
   "metadata": {},
   "source": [
    "El comando **`LIKE`** en SQL se usa en cláusulas **`WHERE`** para buscar patrones dentro de una columna de texto.\n",
    "\n",
    "Ejemplo:\n",
    "\n",
    "```sql\n",
    "SELECT * FROM usuarios WHERE nombre LIKE 'Lu%';\n",
    "```\n",
    "\n",
    "- `%` = cualquier número de caracteres\n",
    "- `_` = un solo carácter\n",
    "\n",
    "Este ejemplo busca todos los nombres que **empiezan con “Lu”**, como *Luis* o *Lucía*.\n"
   ]
  },
  {
   "cell_type": "markdown",
   "id": "e1c7e43f",
   "metadata": {},
   "source": [
    "# Comando DISTINCT"
   ]
  },
  {
   "cell_type": "markdown",
   "id": "43db67dc",
   "metadata": {},
   "source": [
    "El comando **`DISTINCT`** en SQL se usa para **eliminar valores duplicados** en los resultados de una consulta.\n",
    "\n",
    "Ejemplo:\n",
    "\n",
    "```sql\n",
    "SELECT DISTINCT ciudad FROM clientes;\n",
    "```\n",
    "\n",
    "Este ejemplo devuelve **solo una vez cada ciudad**, aunque haya muchos clientes de la misma.\n"
   ]
  },
  {
   "cell_type": "markdown",
   "id": "4942a862",
   "metadata": {},
   "source": [
    "# Comando LIMIT"
   ]
  },
  {
   "cell_type": "markdown",
   "id": "3466cb9b",
   "metadata": {},
   "source": [
    "El comando **`LIMIT`** en SQL se usa para **restringir la cantidad de filas** que devuelve una consulta.  \n",
    "\n",
    "Ejemplo:  \n",
    "```sql\n",
    "SELECT * FROM productos LIMIT 5;\n",
    "```\n",
    "Este ejemplo muestra **solo las primeras 5 filas** del resultado.  \n",
    "\n",
    "También puedes usar:  \n",
    "```sql\n",
    "SELECT * FROM productos LIMIT 5 OFFSET 10;\n",
    "```\n",
    "Esto **omite las primeras 10 filas** y muestra las **siguientes 5**."
   ]
  },
  {
   "cell_type": "markdown",
   "id": "fc00c4cd",
   "metadata": {},
   "source": [
    "# Comando ORDER BY"
   ]
  },
  {
   "cell_type": "markdown",
   "id": "7e3b74d2",
   "metadata": {},
   "source": [
    "El comando **`ORDER BY`** en SQL se usa para **ordenar los resultados** de una consulta, ya sea en orden **ascendente (ASC)** o **descendente (DESC)**.  \n",
    "\n",
    "Ejemplo:  \n",
    "```sql\n",
    "SELECT * FROM empleados ORDER BY salario DESC;\n",
    "```\n",
    "Este ejemplo muestra los empleados **del salario más alto al más bajo**.  \n",
    "\n",
    "Por defecto, si no se indica nada, el orden es **ASC (ascendente)**."
   ]
  },
  {
   "cell_type": "markdown",
   "id": "8dff3f02",
   "metadata": {},
   "source": [
    "# Comando GROUP BY"
   ]
  },
  {
   "cell_type": "markdown",
   "id": "f481ae92",
   "metadata": {},
   "source": [
    "El comando **`GROUP BY`** en SQL se usa para **agrupar filas que tienen valores iguales** en una o más columnas y aplicar funciones como `COUNT()`, `SUM()`, `AVG()`, etc.\n",
    "\n",
    "Ejemplo:\n",
    "\n",
    "```sql\n",
    "SELECT ciudad, COUNT(*) FROM clientes GROUP BY ciudad;\n",
    "```\n",
    "\n",
    "Este ejemplo **agrupa por ciudad** y muestra **cuántos clientes hay en cada una**."
   ]
  },
  {
   "cell_type": "markdown",
   "id": "3ffd3706",
   "metadata": {},
   "source": [
    "# Comando HAVING"
   ]
  },
  {
   "cell_type": "markdown",
   "id": "cb076d2d",
   "metadata": {},
   "source": [
    "El comando **`HAVING`** en SQL se usa para **filtrar los resultados de un `GROUP BY`**, algo que **`WHERE`** no puede hacer.  \n",
    "\n",
    "Ejemplo:  \n",
    "```sql\n",
    "SELECT ciudad, COUNT(*) \n",
    "FROM clientes \n",
    "GROUP BY ciudad \n",
    "HAVING COUNT(*) > 5;\n",
    "```\n",
    "Muestra **solo las ciudades con más de 5 clientes**."
   ]
  },
  {
   "cell_type": "markdown",
   "id": "bc4ed34c",
   "metadata": {},
   "source": [
    "# Comando CASE"
   ]
  },
  {
   "cell_type": "markdown",
   "id": "c274f368",
   "metadata": {},
   "source": [
    "El comando **`CASE`** en SQL se usa para **evaluar condiciones** y **devolver un valor diferente según el resultado**, parecido a un **\"if...else\"** en programación.\n",
    "\n",
    "## **Estructura básica:**\n",
    "\n",
    "```sql\n",
    "SELECT\n",
    "    columna,\n",
    "    CASE\n",
    "        WHEN condición1 THEN resultado1\n",
    "        WHEN condición2 THEN resultado2\n",
    "        ELSE resultado_por_defecto\n",
    "    END AS nombre_columna\n",
    "FROM tabla;\n",
    "```\n",
    "\n",
    "## **Ejemplo:**\n",
    "\n",
    "```sql\n",
    "SELECT\n",
    "    nombre,\n",
    "    edad,\n",
    "    CASE\n",
    "        WHEN edad < 18 THEN 'Menor de edad'\n",
    "        WHEN edad BETWEEN 18 AND 64 THEN 'Adulto'\n",
    "        ELSE 'Adulto mayor'\n",
    "    END AS categoria\n",
    "FROM personas;\n",
    "```\n",
    "\n",
    "Esto clasifica a cada persona según su edad.\n",
    "\n",
    "## **Puntos clave:**\n",
    "\n",
    "* Se puede usar en **SELECT, WHERE, ORDER BY, GROUP BY**, etc.\n",
    "* Siempre termina con **`END`**.\n",
    "* Si ninguna condición se cumple y no hay `ELSE`, el resultado será **NULL**."
   ]
  },
  {
   "cell_type": "markdown",
   "id": "3fd2abe8",
   "metadata": {},
   "source": [
    "# Comando JOIN"
   ]
  },
  {
   "cell_type": "markdown",
   "id": "436c9c07",
   "metadata": {},
   "source": [
    "El comando **JOIN** en SQL se usa para **combinar datos de dos o más tablas** relacionadas entre sí, basándose en una **columna común**.\n",
    "Ejemplo: unir clientes con sus pedidos usando el campo `id_cliente`.\n",
    "\n",
    "Supongamos que tienes dos tablas:\n",
    "\n",
    "**clientes**\n",
    "\n",
    "| id_cliente | nombre |\n",
    "| ---------- | ------ |\n",
    "| 1          | Ana    |\n",
    "| 2          | Luis   |\n",
    "\n",
    "**pedidos**\n",
    "\n",
    "| id_pedido | id_cliente | producto |\n",
    "| --------- | ---------- | -------- |\n",
    "| 101       | 1          | Laptop   |\n",
    "| 102       | 2          | Celular  |\n",
    "\n",
    "Puedes usar **JOIN** para mostrar qué cliente hizo cada pedido:\n",
    "\n",
    "```sql\n",
    "SELECT clientes.nombre, pedidos.producto\n",
    "FROM clientes\n",
    "JOIN pedidos\n",
    "ON clientes.id_cliente = pedidos.id_cliente;\n",
    "```\n",
    "\n",
    "🔹 Este `JOIN` une las filas donde el **id_cliente** coincide en ambas tablas.\n",
    "🔹 El resultado sería:\n",
    "\n",
    "| nombre | producto |\n",
    "| ------ | -------- |\n",
    "| Ana    | Laptop   |\n",
    "| Luis   | Celular  |\n",
    "\n",
    "Así puedes combinar información relacionada de diferentes tablas."
   ]
  },
  {
   "cell_type": "markdown",
   "id": "fe9a1106",
   "metadata": {},
   "source": [
    "## Tipos de inner join"
   ]
  },
  {
   "cell_type": "markdown",
   "id": "2471ca70",
   "metadata": {},
   "source": [
    "1. **INNER JOIN** → Devuelve solo las filas que **coinciden en ambas tablas**.\n",
    "2. **LEFT JOIN (o LEFT OUTER JOIN)** → Devuelve **todas las filas de la tabla izquierda** y las coincidencias de la derecha (si no hay coincidencia, muestra `NULL`).\n",
    "3. **RIGHT JOIN (o RIGHT OUTER JOIN)** → Devuelve **todas las filas de la tabla derecha** y las coincidencias de la izquierda (si no hay coincidencia, muestra `NULL`).\n",
    "4. **FULL JOIN (o FULL OUTER JOIN)** → Devuelve **todas las filas de ambas tablas**, coincidan o no (rellena con `NULL` cuando no hay coincidencia).\n",
    "5. **CROSS JOIN** → Combina **todas las filas de ambas tablas** (producto cartesiano)."
   ]
  },
  {
   "cell_type": "markdown",
   "id": "eb1f7c2d",
   "metadata": {},
   "source": [
    "SELECT * FROM TAB1 /*????*/ TAB2 ON TAB1.COD = TAB2.COD"
   ]
  },
  {
   "cell_type": "markdown",
   "id": "2bd64f5b",
   "metadata": {},
   "source": [
    "BLOQUE 3 VIDEO 2"
   ]
  },
  {
   "cell_type": "markdown",
   "id": "391789e9",
   "metadata": {},
   "source": []
  }
 ],
 "metadata": {
  "language_info": {
   "name": "python"
  }
 },
 "nbformat": 4,
 "nbformat_minor": 5
}
