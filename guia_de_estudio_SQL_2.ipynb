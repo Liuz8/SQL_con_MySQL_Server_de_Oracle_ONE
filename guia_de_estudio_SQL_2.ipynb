{
 "cells": [
  {
   "cell_type": "markdown",
   "id": "424cc8bd",
   "metadata": {},
   "source": []
  }
 ],
 "metadata": {
  "language_info": {
   "name": "python"
  }
 },
 "nbformat": 4,
 "nbformat_minor": 5
}
