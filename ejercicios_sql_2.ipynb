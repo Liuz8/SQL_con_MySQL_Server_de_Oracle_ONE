{
 "cells": [
  {
   "cell_type": "markdown",
   "id": "df92fdd6",
   "metadata": {},
   "source": [
    "# Bloque 4"
   ]
  },
  {
   "cell_type": "markdown",
   "id": "b67be175",
   "metadata": {},
   "source": [
    "## Video 2"
   ]
  },
  {
   "cell_type": "markdown",
   "id": "21de7c92",
   "metadata": {},
   "source": [
    "```sql\n",
    "SELECT * FROM TAB1 /*????*/ TAB2 ON TAB1.COD = TAB2.COD\n",
    "```"
   ]
  },
  {
   "cell_type": "markdown",
   "id": "040dbbce",
   "metadata": {},
   "source": [
    "\n",
    "---\n",
    "\n",
    "```sql\n",
    "RIGHT JOIN\n",
    "```\n",
    "\n",
    "¡Alternativa correcta! Este es el tipo de JOIN que nos va a devolver lo que queremos consultar."
   ]
  },
  {
   "cell_type": "markdown",
   "id": "3beae6a6",
   "metadata": {},
   "source": [
    "## Video 3"
   ]
  },
  {
   "cell_type": "markdown",
   "id": "9c6220ae",
   "metadata": {},
   "source": [
    "Complete el siguiente comando de SQL:\n",
    "```sql\n",
    "SELECT * FROM TAB1 /*????*/ TAB2 ON TAB1.COD = TAB2.COD\n",
    "\n",
    "---\n",
    "\n",
    "FULL JOIN\n",
    "```\n",
    "\n",
    "¡Alternativa correcta! Este es el tipo de JOIN que nos va a devolver lo que queremos consultar."
   ]
  },
  {
   "cell_type": "markdown",
   "id": "984e4339",
   "metadata": {},
   "source": [
    "## Video 4"
   ]
  },
  {
   "cell_type": "markdown",
   "id": "8d3375e4",
   "metadata": {},
   "source": [
    "Cuando queremos listar todos los registros de dos o más tablas, listando incluso los repetidos, ¿Cuál tipo de UNION empleamos?\n",
    "\n",
    "---\n",
    "\n",
    "```sql\n",
    "UNION ALL\n",
    "```\n",
    "\n",
    "¡Alternativa correcta! Así es, este comando nos devuelve todos los registros, incluso los repetidos."
   ]
  },
  {
   "cell_type": "markdown",
   "id": "12aadfb9",
   "metadata": {},
   "source": [
    "## Video 5"
   ]
  },
  {
   "cell_type": "markdown",
   "id": "19c6edf3",
   "metadata": {},
   "source": [
    "Cuál sería la consulta utilizando la subconsulta que sería equivalente a:\n",
    "\n",
    "```sql\n",
    "SELECT DNI, COUNT(*) FROM facturas\n",
    "WHERE YEAR(FECHA_VENTA) = 2016\n",
    "GROUP BY DNI\n",
    "HAVING COUNT(*) > 2000;\n",
    "```\n",
    "\n",
    "---\n",
    "\n",
    "El comando que debemos ejecutar es el siguiente:\n",
    "\n",
    "```sql\n",
    "SELECT X.DNI, X.CONTADOR FROM \n",
    "(SELECT DNI, COUNT(*) AS CONTADOR FROM facturas\n",
    "WHERE YEAR(FECHA_VENTA) = 2016\n",
    "GROUP BY DNI) X WHERE X.CONTADOR > 2000;\n",
    "```"
   ]
  },
  {
   "cell_type": "markdown",
   "id": "9ab5bcbc",
   "metadata": {},
   "source": [
    "## Video 6"
   ]
  },
  {
   "cell_type": "markdown",
   "id": "bf9f0587",
   "metadata": {},
   "source": [
    "Considera las siguientes opciones, y escoge la que sea falsa:\n",
    "\n",
    "---\n",
    "\n",
    "No podemos crear una vista de otra vista.\n",
    "\n",
    "¡Alternativa correcta! Esta es la opción falsa"
   ]
  },
  {
   "cell_type": "markdown",
   "id": "18dc83b5",
   "metadata": {},
   "source": [
    "# Bloque 5"
   ]
  },
  {
   "cell_type": "markdown",
   "id": "c0b46eb5",
   "metadata": {},
   "source": [
    "## Video 1"
   ]
  },
  {
   "cell_type": "markdown",
   "id": "b2f7b340",
   "metadata": {},
   "source": [
    "Haz una consulta listando el nombre del cliente y la dirección completa (Con calle, barrio, ciudad y estado).\n",
    "\n",
    "---\n",
    "\n",
    "```sql\n",
    "SELECT NOMBRE, CONCAT(DIRECCION_1, ' ', BARRIO, ' ', CIUDAD, ' ', ESTADO) AS COMPLETO FROM tabla_de_clientes;\n",
    "```"
   ]
  },
  {
   "cell_type": "markdown",
   "id": "612e03a5",
   "metadata": {},
   "source": [
    "## Video 2"
   ]
  },
  {
   "cell_type": "markdown",
   "id": "3d6eaccf",
   "metadata": {},
   "source": [
    "Haz una consulta que muestre el nombre y la edad actual del cliente.\n",
    "\n",
    "---\n",
    "\n",
    "```sql\n",
    "SELECT NOMBRE, TIMESTAMPDIFF(YEAR, FECHA_DE_NACIMIENTO, CURDATE()) AS    EDAD\n",
    "FROM  tabla_de_clientes;\n",
    "```"
   ]
  },
  {
   "cell_type": "markdown",
   "id": "876536aa",
   "metadata": {},
   "source": [
    "## Video 3"
   ]
  },
  {
   "cell_type": "markdown",
   "id": "14737c2f",
   "metadata": {},
   "source": [
    "En la tabla de facturas tenemos el valor del impuesto. En la tabla de ítems tenemos la cantidad y la facturación. Calcula el valor del impuesto pago en el año de 2016 redondeando al menor entero.\n",
    "\n",
    "---\n",
    "\n",
    "```sql\n",
    "SELECT YEAR(FECHA_VENTA), FLOOR(SUM(IMPUESTO * (CANTIDAD * PRECIO))) \n",
    "AS RESULTADO\n",
    "FROM facturas F\n",
    "INNER JOIN items_facturas IFa ON F.NUMERO = IFa.NUMERO\n",
    "WHERE YEAR(FECHA_VENTA) = 2016\n",
    "GROUP BY YEAR(FECHA_VENTA);\n",
    "```"
   ]
  },
  {
   "cell_type": "markdown",
   "id": "802c6652",
   "metadata": {},
   "source": [
    "## Video 4"
   ]
  },
  {
   "cell_type": "markdown",
   "id": "a30b9727",
   "metadata": {},
   "source": [
    "Queremos construir un SQL cuyo resultado sea, para cada cliente:\n",
    "\n",
    "“El cliente Pepito Pérez facturó 120000 en el año 2016”.\n",
    "\n",
    "Solamente para el año 2016.\n",
    "\n",
    "---\n",
    "\n",
    "```sql\n",
    "SELECT CONCAT('El cliente ', TC.NOMBRE, ' facturó ', \n",
    "CONVERT(SUM(IFa.CANTIDAD * IFa.precio), CHAR(20))\n",
    " , ' en el año ', CONVERT(YEAR(F.FECHA_VENTA), CHAR(20))) AS FRASE FROM facturas F\n",
    "INNER JOIN items_facturas IFa ON F.NUMERO = IFa.NUMERO\n",
    "INNER JOIN tabla_de_clientes TC ON F.DNI = TC.DNI\n",
    "WHERE YEAR(FECHA_VENTA) = 2016\n",
    "GROUP BY TC.NOMBRE, YEAR(FECHA_VENTA);\n",
    "```"
   ]
  },
  {
   "cell_type": "markdown",
   "id": "69d681d6",
   "metadata": {},
   "source": [
    "# Bloque 6"
   ]
  },
  {
   "cell_type": "markdown",
   "id": "04888a2a",
   "metadata": {},
   "source": [
    "## Video 1"
   ]
  },
  {
   "cell_type": "markdown",
   "id": "dfe4efa0",
   "metadata": {},
   "source": [
    "En esta aula construimos un informe que presentó a los clientes que tenían ventas inválidas. Complementa este informe listando solamente a los que tuvieron ventas inválidas y calcula la diferencia entre el límite de venta máximo y la cantidad vendida en porcentuales.\n",
    "\n",
    "Tips:\n",
    "\n",
    "- Utiliza el comando SQL empleado al final del video.\n",
    "\n",
    "- Filtra solamente las líneas donde: (A.CANTIDAD_VENDIDA - A.CANTIDAD_MAXIMA) < 0\n",
    "\n",
    "- Lista el campo X.CANTIDAD_LIMITE\n",
    "\n",
    "- Crea nuevo campo ejecutando la fórmula: (1 - (X.CANTIDAD_LIMITE/X.CANTIDAD_VENDAS)) * 100.\n",
    "\n",
    "---\n",
    "\n",
    "```sql\n",
    "SELECT A.DNI, A.NOMBRE, A.MES_AÑO, \n",
    "A.CANTIDAD_VENDIDA - A.CANTIDAD_MAXIMA AS DIFERENCIA,\n",
    "CASE\n",
    "   WHEN  (A.CANTIDAD_VENDIDA - A.CANTIDAD_MAXIMA) <= 0 THEN 'Venta Válida'\n",
    "   ELSE 'Venta Inválida'\n",
    "END AS STATUS_VENTA, ROUND((1 - (A.CANTIDAD_MAXIMA/A.CANTIDAD_VENDIDA)) * 100,2) AS PORCENTAJE\n",
    " FROM(\n",
    "SELECT F.DNI, TC.NOMBRE, DATE_FORMAT(F.FECHA_VENTA, \"%m - %Y\") AS MES_AÑO, \n",
    "SUM(IFa.CANTIDAD) AS CANTIDAD_VENDIDA, \n",
    "MAX(VOLUMEN_DE_COMPRA)/10 AS CANTIDAD_MAXIMA  \n",
    "FROM facturas F \n",
    "INNER JOIN \n",
    "items_facturas IFa\n",
    "ON F.NUMERO = IFa.NUMERO\n",
    "INNER JOIN \n",
    "tabla_de_clientes TC\n",
    "ON TC.DNI = F.DNI\n",
    "GROUP BY\n",
    "F.DNI, TC.NOMBRE, DATE_FORMAT(F.FECHA_VENTA, \"%m - %Y\"))A\n",
    "WHERE (A.CANTIDAD_MAXIMA - A.CANTIDAD_VENDIDA) < 0;\n",
    "```"
   ]
  },
  {
   "cell_type": "markdown",
   "id": "ae86e356",
   "metadata": {},
   "source": [
    "## Video 2"
   ]
  },
  {
   "cell_type": "markdown",
   "id": "9e6c4968",
   "metadata": {},
   "source": [
    "En esta aula construimos un informe que presentó a los clientes que tenían ventas inválidas. Ahora lista solamente a los que tuvieron ventas inválidas en el año 2018 excediendo más del 50% de su límite permitido por mes. Calcula la diferencia entre el límite de venta máximo y la cantidad vendida, en porcentuales.\n",
    "\n",
    "Tips:\n",
    "\n",
    "- Te puedes apoyar en el código que realizaste para el desafío anterior.\n",
    "\n",
    "---\n",
    "\n",
    "```sql\n",
    "SELECT A.DNI, A.NOMBRE, A.MES_AÑO, \n",
    "A.CANTIDAD_VENDIDA - A.CANTIDAD_MAXIMA AS DIFERENCIA,\n",
    "CASE\n",
    "   WHEN  (A.CANTIDAD_VENDIDA - A.CANTIDAD_MAXIMA) <= 0 THEN 'Venta Válida'\n",
    "   ELSE 'Venta Inválida'\n",
    "END AS STATUS_VENTA, ROUND((1 - (A.CANTIDAD_MAXIMA/A.CANTIDAD_VENDIDA)) * 100,2) AS PORCENTAJE\n",
    " FROM(\n",
    "SELECT F.DNI, TC.NOMBRE, DATE_FORMAT(F.FECHA_VENTA, \"%m - %Y\") AS MES_AÑO, \n",
    "SUM(IFa.CANTIDAD) AS CANTIDAD_VENDIDA, \n",
    "MAX(VOLUMEN_DE_COMPRA)/10 AS CANTIDAD_MAXIMA  \n",
    "FROM facturas F \n",
    "INNER JOIN \n",
    "items_facturas IFa\n",
    "ON F.NUMERO = IFa.NUMERO\n",
    "INNER JOIN \n",
    "tabla_de_clientes TC\n",
    "ON TC.DNI = F.DNI\n",
    "GROUP BY\n",
    "F.DNI, TC.NOMBRE, DATE_FORMAT(F.FECHA_VENTA, \"%m - %Y\"))A\n",
    "WHERE (A.CANTIDAD_MAXIMA - A.CANTIDAD_VENDIDA) < 0 AND ROUND((1 - (A.CANTIDAD_MAXIMA/A.CANTIDAD_VENDIDA)) * 100,2) > 50\n",
    "AND A.MES_AÑO LIKE \"%2018\";\n",
    "```"
   ]
  },
  {
   "cell_type": "markdown",
   "id": "27dbe893",
   "metadata": {},
   "source": [
    "## Video 3"
   ]
  },
  {
   "cell_type": "markdown",
   "id": "844d0bf9",
   "metadata": {},
   "source": [
    "Modifica el informe pero ahora para ver el ranking de las ventas por tamaño.\n",
    "\n",
    "Tips:\n",
    "\n",
    "- Puede parecer difícil pero este es el ejercicio más fácil de resolver.\n",
    "\n",
    "---\n",
    "\n",
    "Lo único que debes hacer es tomar el informe, y en vez de utilizar el sabor como parámetro, utilizas tamaño. El restante de la consulta permanece igual:\n",
    "\n",
    "```sql\n",
    "SELECT VENTAS_TAMANO.TAMANO, VENTAS_TAMANO.AÑO, VENTAS_TAMANO.CANTIDAD_TOTAL,\n",
    "ROUND((VENTAS_TAMANO.CANTIDAD_TOTAL/VENTA_TOTAL.CANTIDAD_TOTAL)*100,2) \n",
    "AS PORCENTAJE FROM (\n",
    "SELECT P.TAMANO, SUM(IFa.CANTIDAD) AS CANTIDAD_TOTAL, \n",
    "YEAR(F.FECHA_VENTA) AS AÑO FROM\n",
    "tabla_de_productos P\n",
    "INNER JOIN\n",
    "items_facturas IFa\n",
    "ON P.CODIGO_DEL_PRODUCTO = IFa.CODIGO_DEL_PRODUCTO\n",
    "INNER JOIN\n",
    "facturas F\n",
    "ON F.NUMERO = IFa.NUMERO\n",
    "WHERE YEAR(F.FECHA_VENTA) = 2016\n",
    "GROUP BY P.TAMANO, YEAR(F.FECHA_VENTA)\n",
    "ORDER BY SUM(IFa.CANTIDAD) DESC) VENTAS_TAMANO\n",
    "INNER JOIN (\n",
    "SELECT SUM(IFa.CANTIDAD) AS CANTIDAD_TOTAL, \n",
    "YEAR(F.FECHA_VENTA) AS AÑO FROM\n",
    "tabla_de_productos P\n",
    "INNER JOIN\n",
    "items_facturas IFa\n",
    "ON P.CODIGO_DEL_PRODUCTO = IFa.CODIGO_DEL_PRODUCTO\n",
    "INNER JOIN\n",
    "facturas F\n",
    "ON F.NUMERO = IFa.NUMERO\n",
    "WHERE YEAR(F.FECHA_VENTA) = 2016\n",
    "GROUP BY YEAR(F.FECHA_VENTA)) VENTA_TOTAL\n",
    "ON VENTA_TOTAL.AÑO = VENTAS_TAMANO.AÑO\n",
    "ORDER BY VENTAS_TAMANO.CANTIDAD_TOTAL DESC;\n",
    "```"
   ]
  }
 ],
 "metadata": {
  "language_info": {
   "name": "python"
  }
 },
 "nbformat": 4,
 "nbformat_minor": 5
}
