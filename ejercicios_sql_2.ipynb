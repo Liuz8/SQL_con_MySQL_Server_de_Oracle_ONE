{
 "cells": [
  {
   "cell_type": "markdown",
   "id": "df92fdd6",
   "metadata": {},
   "source": [
    "# Bloque 4"
   ]
  },
  {
   "cell_type": "markdown",
   "id": "b67be175",
   "metadata": {},
   "source": [
    "## Video 2"
   ]
  },
  {
   "cell_type": "markdown",
   "id": "21de7c92",
   "metadata": {},
   "source": [
    "```sql\n",
    "SELECT * FROM TAB1 /*????*/ TAB2 ON TAB1.COD = TAB2.COD\n",
    "```"
   ]
  },
  {
   "cell_type": "markdown",
   "id": "040dbbce",
   "metadata": {},
   "source": [
    "\n",
    "---\n",
    "\n",
    "```sql\n",
    "RIGHT JOIN\n",
    "```\n",
    "\n",
    "¡Alternativa correcta! Este es el tipo de JOIN que nos va a devolver lo que queremos consultar."
   ]
  },
  {
   "cell_type": "markdown",
   "id": "3beae6a6",
   "metadata": {},
   "source": [
    "## Video 3"
   ]
  },
  {
   "cell_type": "markdown",
   "id": "9c6220ae",
   "metadata": {},
   "source": [
    "Complete el siguiente comando de SQL:\n",
    "```sql\n",
    "SELECT * FROM TAB1 /*????*/ TAB2 ON TAB1.COD = TAB2.COD\n",
    "\n",
    "---\n",
    "\n",
    "FULL JOIN\n",
    "```\n",
    "\n",
    "¡Alternativa correcta! Este es el tipo de JOIN que nos va a devolver lo que queremos consultar."
   ]
  },
  {
   "cell_type": "markdown",
   "id": "984e4339",
   "metadata": {},
   "source": [
    "## Video 4"
   ]
  },
  {
   "cell_type": "markdown",
   "id": "8d3375e4",
   "metadata": {},
   "source": [
    "Cuando queremos listar todos los registros de dos o más tablas, listando incluso los repetidos, ¿Cuál tipo de UNION empleamos?\n",
    "\n",
    "---\n",
    "\n",
    "```sql\n",
    "UNION ALL\n",
    "```\n",
    "\n",
    "¡Alternativa correcta! Así es, este comando nos devuelve todos los registros, incluso los repetidos."
   ]
  },
  {
   "cell_type": "markdown",
   "id": "12aadfb9",
   "metadata": {},
   "source": [
    "## Video 5"
   ]
  },
  {
   "cell_type": "markdown",
   "id": "19c6edf3",
   "metadata": {},
   "source": [
    "Cuál sería la consulta utilizando la subconsulta que sería equivalente a:\n",
    "\n",
    "```sql\n",
    "SELECT DNI, COUNT(*) FROM facturas\n",
    "WHERE YEAR(FECHA_VENTA) = 2016\n",
    "GROUP BY DNI\n",
    "HAVING COUNT(*) > 2000;\n",
    "```\n",
    "\n",
    "---\n",
    "\n",
    "El comando que debemos ejecutar es el siguiente:\n",
    "\n",
    "```sql\n",
    "SELECT X.DNI, X.CONTADOR FROM \n",
    "(SELECT DNI, COUNT(*) AS CONTADOR FROM facturas\n",
    "WHERE YEAR(FECHA_VENTA) = 2016\n",
    "GROUP BY DNI) X WHERE X.CONTADOR > 2000;\n",
    "```"
   ]
  },
  {
   "cell_type": "markdown",
   "id": "9ab5bcbc",
   "metadata": {},
   "source": [
    "## Video 6"
   ]
  },
  {
   "cell_type": "markdown",
   "id": "bf9f0587",
   "metadata": {},
   "source": [
    "Considera las siguientes opciones, y escoge la que sea falsa:\n",
    "\n",
    "---\n",
    "\n",
    "No podemos crear una vista de otra vista.\n",
    "\n",
    "¡Alternativa correcta! Esta es la opción falsa"
   ]
  },
  {
   "cell_type": "markdown",
   "id": "18dc83b5",
   "metadata": {},
   "source": []
  }
 ],
 "metadata": {
  "language_info": {
   "name": "python"
  }
 },
 "nbformat": 4,
 "nbformat_minor": 5
}
