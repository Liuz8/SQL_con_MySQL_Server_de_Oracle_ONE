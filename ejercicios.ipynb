{
 "cells": [
  {
   "cell_type": "markdown",
   "id": "6989e7c2",
   "metadata": {},
   "source": [
    "# Bloque 1"
   ]
  },
  {
   "cell_type": "markdown",
   "id": "3eede40a",
   "metadata": {},
   "source": [
    "## Video 3"
   ]
  },
  {
   "cell_type": "markdown",
   "id": "4bcbd369",
   "metadata": {},
   "source": [
    "De las siguientes opciones ¿Cuál sería la entidad básica de MySQL?\n",
    "\n",
    "---\n",
    "\n",
    "Tabla.\n",
    "¡Alternativa correcta! Efectivamente, la tabla es la entidad básica de MySQL."
   ]
  },
  {
   "cell_type": "markdown",
   "id": "775b65aa",
   "metadata": {},
   "source": [
    "## Video 4\n",
    "\n",
    "¿Qué es una clave primaria?\n",
    "\n",
    "---\n",
    "\n",
    "Es una restricción que determina que el valor de estos campos debe existir en otra tabla.\n",
    "\n",
    "\n",
    "¡Alternativa incorrecta! Esta es la definición de clave externa."
   ]
  },
  {
   "cell_type": "markdown",
   "id": "e2c79c9b",
   "metadata": {},
   "source": [
    "## Video 5\n",
    "\n",
    "2. Marca las alternativas verdaderas que representan requisitos para el inicio de la construcción de una base de datos.\n",
    "\n",
    "---\n",
    "\n",
    "**Entender las reglas del negocio.**\n",
    "\n",
    "Este es uno de los requisitos mencionados en el video.\n",
    "\n",
    "**Diseño de un modelo que corresponda con la realidad.**\n",
    "\n",
    "\n",
    "¡Alternativa correcta! Este es uno de los requisitos mencionados en el video."
   ]
  },
  {
   "cell_type": "markdown",
   "id": "af4ae6c3",
   "metadata": {},
   "source": [
    "1. Marca las alternativas verdaderas que representan los pasos para la creación de un modelo conceptual.\n",
    "\n",
    "---\n",
    "\n",
    "**Establecer la cardinalidad entre las entidades.**\n",
    "\n",
    "\n",
    "Este es uno de los requisitos mencionados en el video.\n",
    "\n",
    "\n",
    "**Construcción del diagrama Entidad-Relación.**\n",
    "\n",
    "\n",
    "Este es uno de los requisitos mencionados en el video."
   ]
  },
  {
   "cell_type": "markdown",
   "id": "5fb53410",
   "metadata": {},
   "source": [
    "# Bloque 2"
   ]
  },
  {
   "cell_type": "markdown",
   "id": "de388432",
   "metadata": {},
   "source": [
    "## Video 1\n",
    "\n",
    "¿Qué significa el parámetro DEFAULT CHARACTER SET usado en la creación de la base de datos en MySQL?\n",
    "\n",
    "---\n",
    "\n",
    "Hace referencia a la tabla de caracteres que será utilizada al almacenar campos de texto.\n",
    "\n",
    "\n",
    "¡Alternativa correcta! Aquí especificamos la tabla ASCII de caracteres que serán empleados en la base de datos."
   ]
  },
  {
   "cell_type": "markdown",
   "id": "ab805dd6",
   "metadata": {},
   "source": [
    "## Video 2\n",
    "\n",
    "Crea la tabla de clientes con base en el diagrama de entidades de la definición de la base de datos ventas_jugos como se muestra a continuación:\n",
    "\n",
    "![01](img/01.JPG)\n",
    "\n",
    "- Crea la tabla de clientes empleando líneas de comando SQL.\n",
    "\n",
    "- El nombre de la tabla debe ser clientes.\n",
    "\n",
    "- Observación: El nombre de los campos mencionados está en lenguaje natural. Debemos crear los campos de la siguiente forma:\n",
    "\n",
    "-      DNI / NOMBRE / DIRECCION / BARRIO / CIUDAD / ESTADO / CP / FECHA_NACIMIENTO / EDAD / SEXO /         LIMITE_CREDITO / VOLUMEN_COMPRA / PRIMERA_COMPRA\n",
    "\n",
    "---\n",
    "\n",
    "  ```sql\n",
    "CREATE TABLE clientes (\n",
    "  DNI varchar(11) NOT NULL,\n",
    "  NOMBRE varchar(100) DEFAULT NULL,\n",
    "  DIRECCION varchar(150) DEFAULT NULL,\n",
    "  BARRIO varchar(50) DEFAULT NULL,\n",
    "  CIUDAD varchar(50) DEFAULT NULL,\n",
    "  ESTADO varchar(45) DEFAULT NULL,\n",
    "  CP varchar(8) DEFAULT NULL,\n",
    "  FECHA_NACIMIENTO date DEFAULT NULL,\n",
    "  EDAD int(2) DEFAULT NULL,\n",
    "  SEXO varchar(1) DEFAULT NULL,\n",
    "  LIMITE_CREDITO float DEFAULT NULL,\n",
    "  VOLUMEN_COMPRA float DEFAULT NULL,\n",
    "  PRIMERA_COMPRA bit(1) DEFAULT NULL,\n",
    "  PRIMARY KEY (DNI));  \n",
    "  ```"
   ]
  },
  {
   "cell_type": "markdown",
   "id": "390ae8cd",
   "metadata": {},
   "source": [
    "## Video 3\n",
    "\n",
    "Crea la tabla de facturas con base en el diagrama de entidades de la definición de la base de datos ventas_jugos como se muestra a continuación usando el asistente:\n",
    "\n",
    "![02](img/02.JPG)\n",
    "\n",
    "- El nombre de la tabla debe ser facturas.\n",
    "\n",
    "- Observación: El nombre de los campos mencionados está en lenguaje natural. Debemos crear los campos de la siguiente forma:\n",
    "\n",
    "-       NUMERO / FECHA / DNI / MATRICULA / IMPUESTO\n",
    "\n",
    "---\n",
    "\n",
    "En la base de datos de ventas_jugos hay que hacer clic derecho sobre Tables:\n",
    "\n",
    "![03](img/03.JPG)\n",
    "\n",
    "En el asistente de la creación de tablas digita:\n",
    "\n",
    "![04](img/04.JPG)\n",
    "\n",
    "Guarda la tabla como facturas."
   ]
  },
  {
   "cell_type": "markdown",
   "id": "137cc847",
   "metadata": {},
   "source": [
    "## Video 4\n",
    "\n",
    "Crea, por línea de comando, la clave externa que relaciona a la tabla facturas con items_facturas a través del campo NUMERO.\n",
    "\n",
    "---\n",
    "\n",
    "```sql\n",
    "USE ventas_jugos;\n",
    "\n",
    "CREATE TABLE items_facturas\n",
    "(NUMERO VARCHAR(5) NOT NULL,\n",
    "CODIGO VARCHAR(10) NOT NULL,\n",
    "CANTIDAD INT,\n",
    "PRECIO FLOAT,\n",
    "PRIMARY KEY (NUMERO, CODIGO));\n",
    "\n",
    "ALTER TABLE items_facturas ADD CONSTRAINT FK_FACTURAS\n",
    "FOREIGN KEY (NUMERO)\n",
    "REFERENCES facturas(NUMERO);\n",
    "```"
   ]
  },
  {
   "cell_type": "markdown",
   "id": "43619871",
   "metadata": {},
   "source": [
    "## Video 5\n",
    "\n",
    "La gerencia de la empresa de jugos realizó la solicitud de cambiar los nombres de las tablas colocando el prefijo tb_ antes de cada nombre.\n",
    "\n",
    "---\n",
    "\n",
    "```sql\n",
    "ALTER TABLE factura RENAME tb_factura;\n",
    "ALTER TABLE cliente RENAME tb_cliente;\n",
    "ALTER TABLE items_facturas RENAME tb_items_facturas;\n",
    "```"
   ]
  },
  {
   "cell_type": "markdown",
   "id": "f60db7a9",
   "metadata": {},
   "source": [
    "## Video 6\n",
    "\n",
    "Para finalizar la creación de la base de datos, hacen falta dos tablas que son: ``tb_producto`` y tb_vendedor. (No olvides crear las claves externas que vinculan a ``tb_producto`` con tb_items_facturas, a tb_facturas con tb_clientes y a tb_facturas con tb_vendedor).\n",
    "\n",
    "![05](img/05.JPG)\n",
    "\n",
    "![06](img/06.JPG)\n",
    "\n",
    "---\n",
    "\n",
    "```sql\n",
    "USE ventas_jugos;\n",
    "\n",
    "CREATE TABLE tb_vendedor(\n",
    "MATRICULA VARCHAR(5) NOT NULL,\n",
    "NOMBRE VARCHAR(100) NULL,\n",
    "BARRIO VARCHAR(50) NULL,\n",
    "COMISION FLOAT NULL,\n",
    "FECHA_ADMISION DATE NULL,\n",
    "DE_VACACIONES BIT(1) NULL,\n",
    "PRIMARY KEY(MATRICULA)\n",
    ");\n",
    "\n",
    "CREATE TABLE tb_producto(\n",
    "CODIGO VARCHAR(10) NOT NULL,\n",
    "DESCRIPCION VARCHAR(100) NULL,\n",
    "SABOR VARCHAR(50) NULL,\n",
    "TAMANO VARCHAR(50) NULL,\n",
    "ENVASE VARCHAR(50) NULL,\n",
    "PRECIO_LISTA FLOAT NULL,\n",
    "PRIMARY KEY (CODIGO)\n",
    ");\n",
    "\n",
    "ALTER TABLE tb_facturas ADD CONSTRAINT FK_CLIENTE\n",
    "FOREIGN KEY (DNI) REFERENCES tb_cliente(DNI);\n",
    "\n",
    "ALTER TABLE tb_facturas ADD CONSTRAINT FK_VENDEDOR\n",
    "FOREIGN KEY (MATRICULA) REFERENCES tb_vendedor(MATRICULA);\n",
    "\n",
    "ALTER TABLE tb_items_facturas ADD CONSTRAINT FK_PRODUCTO\n",
    "FOREIGN KEY (CODIGO) REFERENCES tb_producto(CODIGO);\n",
    "```"
   ]
  },
  {
   "cell_type": "markdown",
   "id": "c289ff39",
   "metadata": {},
   "source": [
    "# Bloque 3"
   ]
  },
  {
   "cell_type": "markdown",
   "id": "28af40e0",
   "metadata": {},
   "source": [
    "## Video 1\n",
    "\n",
    "Incluye los siguientes registros en la tabla de clientes:\n",
    "\n",
    "DNI: 9283760794, NOMBRE: Edson Calisaya, DIRECCION: Sta Úrsula Xitla, BARRIO: Barrio del Niño Jesús, CIUDAD: Ciudad de México, ESTADO: EM, CP: 22002002, FECHA DE NACIMIENTO: 1995-01-07, EDAD: 25, SEXO: M, LIMITE DE CREDITO: 150000, VOLUMEN DE COMPRA: 250000, PRIMERA COMPRA: Sí.\n",
    "\n",
    "DNI: 7771579779, NOMBRE: Marcelo Perez, DIRECCION: F.C. de Cuernavaca 13, BARRIO: Carola, CIUDAD: Ciudad de México, ESTADO: EM, CP: 88202912, FECHA DE NACIMIENTO: 1992-01-25, EDAD: 29, SEXO: M, LIMITE DE CREDITO: 70000, VOLUMEN DE COMPRA: 160000, PRIMERA COMPRA: Sí.\n",
    "\n",
    "DNI: 5576228758, NOMBRE: Patricia Olivera, DIRECCION: Pachuca 75, BARRIO: Condesa, CIUDAD: Ciudad de México, ESTADO: EM, CP: 88192029, FECHA DE NACIMIENTO: 1995-01-14 , EDAD: 25, SEXO: F, LIMITE DE CREDITO: 70000, VOLUMEN DE COMPRA: 160000, PRIMERA COMPRA: Sí.\n",
    "\n",
    "---\n",
    "\n",
    "```sql\n",
    "INSERT INTO TABLA_DE_CLIENTES (DNI, NOMBRE, DIRECCION, BARRIO, CIUDAD, ESTADO, CP, FECHA_NACIMIENTO, EDAD, SEXO, LIMITE_CREDITO, VOLUMEN_COMPRA, PRIMERA_COMPRA) VALUES ('9283760794', 'Edson Calisaya', 'Sta Úrsula Xitla', 'Barrio del Niño Jesús', 'Ciudad de México', 'EM', '22002002', '1995-01-07', 25, 'M', 150000, 250000, 1);\n",
    "INSERT INTO TABLA_DE_CLIENTES (DNI, NOMBRE, DIRECCION, BARRIO, CIUDAD, ESTADO, CP, FECHA_NACIMIENTO, EDAD, SEXO, LIMITE_CREDITO, VOLUMEN_COMPRA, PRIMERA_COMPRA) VALUES ('7771579779', 'Marcelo Perez', 'F.C. de Cuernavaca 13', 'Carola', 'Ciudad de México', 'EM', '88202912', '1992-01-25', 29, 'M', 120000, 200000, 1);\n",
    "INSERT INTO TABLA_DE_CLIENTES (DNI, NOMBRE, DIRECCION, BARRIO, CIUDAD, ESTADO, CP, FECHA_NACIMIENTO, EDAD, SEXO, LIMITE_CREDITO, VOLUMEN_COMPRA, PRIMERA_COMPRA) VALUES ('5576228758', 'Patricia Olivera', 'Pachuca 75',  'Condesa', 'Ciudad de México', 'EM', '88192029', '1995-01-14', 25, 'F', 70000, 160000, 1);\n",
    "```"
   ]
  },
  {
   "cell_type": "markdown",
   "id": "cac89870",
   "metadata": {},
   "source": [
    "## Video 2\n",
    "\n",
    "Incluye todos los clientes en la tabla tb_clientes basado en los registros de la tabla tabla_de_clientes de la base jugos_ventas.\n",
    "\n",
    "Observación: Atención al nombre de los campos y recuerda que ya incluimos 3 clientes en nuestra tabla durante el ejercicio anterior.\n",
    "\n",
    "---\n",
    "\n",
    "```sql\n",
    "USE ventas_jugos;\n",
    "\n",
    "INSERT INTO tb_clientes\n",
    "SELECT DNI, NOMBRE, DIRECCION_1 AS DIRECCION,\n",
    "BARRIO, CIUDAD, ESTADO, CP, FECHA_DE_NACIMIENTO \n",
    "AS FECHA_NACIMIENTO, EDAD, SEXO, LIMITE_DE_CREDITO\n",
    "AS LIMITE_CREDITO, VOLUMEN_DE_COMPRA AS VOLUMEN_COMPRA,\n",
    "PRIMERA_COMPRA FROM jugos_ventas.tabla_de_clientes\n",
    "WHERE DNI NOT IN (SELECT DNI FROM tb_clientes);\n",
    "```"
   ]
  },
  {
   "cell_type": "markdown",
   "id": "c600cf75",
   "metadata": {},
   "source": [
    "## Video 4\n",
    "\n",
    "![07](img/07.JPG)\n",
    "\n",
    "¿Qué representan los campos resaltados en rojo?\n",
    "\n",
    "Las columnas del archivo .csv.\n",
    "\n",
    "\n",
    "¡Alternativa correcta! Primero se presentan las columnas del archivo .csv."
   ]
  },
  {
   "cell_type": "markdown",
   "id": "11bf8721",
   "metadata": {},
   "source": [
    "# Bloque 4"
   ]
  },
  {
   "cell_type": "markdown",
   "id": "c8b45b07",
   "metadata": {},
   "source": [
    "## Video 1\n",
    "\n",
    "Actualiza la dirección del cliente con el DNI 5840119709 Colocando como nueva dirección Jorge Emilio 23, barrio San Antonio, ciudad Guadalajara, Estado de Jalisco y el CP 44700000.\n",
    "\n",
    "---\n",
    "\n",
    "```sql\n",
    "UPDATE tb_clientes SET \n",
    "DIRECCION = 'Jorge Emilio 23',\n",
    "BARRIO = 'San Antonio',\n",
    "CIUDAD = 'Guadalajara',\n",
    "ESTADO = 'JC',\n",
    "CEP = '44700000'\n",
    "WHERE DNI = '5840119709'\n",
    "```"
   ]
  },
  {
   "cell_type": "markdown",
   "id": "654a37b7",
   "metadata": {},
   "source": [
    "## Video 2\n",
    "\n",
    "Podemos observar que los vendedores se encuentran en barrios asociados a ellos. Vamos a aumentar en 30% el volumen de compra de los clientes que tienen, en sus direcciones, barrios donde los vendedores cuentan con oficinas.\n",
    "\n",
    "Tip: Vamos a usar un UPDATE con FROM apoyándonos con el siguiente INNER JOIN:\n",
    "\n",
    "```sql\n",
    "SELECT A.DNI FROM tb_clientes A\n",
    "INNER JOIN tb_vendedor B\n",
    "ON A.BARRIO = B.BARRIO\n",
    "```\n",
    "\n",
    "---\n",
    "\n",
    "```sql\n",
    "UPDATE tb_clientes A \n",
    "INNER JOIN \n",
    "tb_vendedor B\n",
    "ON A.BARRIO = B.BARRIO\n",
    "SET A.VOLUMEN_COMPRA = A.VOLUMEN_COMPRA * 1.3\n",
    "```"
   ]
  },
  {
   "cell_type": "markdown",
   "id": "4172f644",
   "metadata": {},
   "source": [
    "## Video 3\n",
    "\n",
    "Vamos a excluir las facturas (Apenas el encabezado) cuyos clientes tengan menos de 18 años.\n",
    "\n",
    "Tip: Usaremos la siguiente consulta:\n",
    "\n",
    "```sql\n",
    "SELECT A.DNI FROM tb_clientes A\n",
    "INNER JOIN tb_vendedor B\n",
    "ON A.BARRIO = B.BARRIO\n",
    "```\n",
    "\n",
    "Puedes usar una sintaxis semejante a la usada en UPDATE con FROM.\n",
    "\n",
    "---\n",
    "\n",
    "```sql\n",
    "DELETE A FROM tb_facturas A\n",
    "INNER JOIN \n",
    "tb_clientes B \n",
    "ON A.DNI = B.DNI\n",
    "WHERE B.EDAD < 18;\n",
    "```"
   ]
  },
  {
   "cell_type": "markdown",
   "id": "a865b984",
   "metadata": {},
   "source": [
    "## Video 4\n",
    "\n",
    "¿Por qué debemos tener cuidado al usar comandos UPDATE o DELETE sin condiciones con la cláusula WHERE?\n",
    "\n",
    "---\n",
    "\n",
    "Porque no lograremos recuperar los datos en caso que ejecutemos un comando sin la cláusula WHERE sobre toda la tabla.\n",
    "\n",
    "\n",
    "¡Alternativa correcta! Este es el principal cuidado que debemos tener."
   ]
  },
  {
   "cell_type": "markdown",
   "id": "9aba6b8f",
   "metadata": {},
   "source": [
    "## Video 5\n",
    "\n",
    "¿Se presentarán errores al utilizar el comando ROLLBACK dos veces?\n",
    "\n",
    "---\n",
    "\n",
    "No, porque podemos usar comandos ROLLBACK simultáneos en el mismo script.\n",
    "\n",
    "\n",
    "¡Alternativa correcta! Podemos usar ROLLBACKs seguidos en un mismo script, aunque no haya iniciado una nueva transacción. Pero, el comando se torna inútil porque nada va a suceder."
   ]
  },
  {
   "cell_type": "markdown",
   "id": "cc563df7",
   "metadata": {},
   "source": [
    "# Bloque 5"
   ]
  },
  {
   "cell_type": "markdown",
   "id": "f47bc6ec",
   "metadata": {},
   "source": [
    "## Video 1\n",
    "\n",
    "¿Cuál será el valor final de la secuencia tras la ejecución de los siguientes comandos?\n",
    "\n",
    "```sql\n",
    "CREATE TABLE TAB_IDENTITY2 (ID INT AUTO_INCREMENT, DESCRIPTOR VARCHAR(20), PRIMARY KEY(ID));\n",
    "INSERT INTO TAB_IDENTITY2 (DESCRIPTOR) VALUES ('CLIENTE1');\n",
    "INSERT INTO TAB_IDENTITY2 (DESCRIPTOR) VALUES ('CLIENTE2');\n",
    "INSERT INTO TAB_IDENTITY2 (DESCRIPTOR) VALUES ('CLIENTE3');\n",
    "INSERT INTO TAB_IDENTITY2 (ID, DESCRIPTOR) VALUES (NULL, 'CLIENTE4');\n",
    "DELETE FROM TAB_IDENTITY2 WHERE ID = 3;\n",
    "INSERT INTO TAB_IDENTITY2 (ID, DESCRIPTOR) VALUES (NULL, 'CLIENTE6');\n",
    "INSERT INTO TAB_IDENTITY2 (ID, DESCRIPTOR) VALUES (NULL, 'CLIENTE7');\n",
    "DELETE FROM TAB_IDENTITY2 WHERE ID = 2;\n",
    "```\n",
    "\n",
    "---\n",
    "\n",
    "El valor final de la secuencia será 6."
   ]
  },
  {
   "cell_type": "markdown",
   "id": "e1533718",
   "metadata": {},
   "source": [
    "## Video 2\n",
    "\n",
    "¿Un campo que fue definido como estándar al momento de la creación de la tabla, presentará qué tipo de comportamiento durante el INSERT?\n",
    "\n",
    "---\n",
    "\n",
    "Si el mismo no aparece en el comando INSERT, será incluido el valor DEFAULT que fue especificado al momento de la creación de la tabla.\n",
    "\n",
    "\n",
    "¡Alternativa correcta! Así es como funcionan los campos con valores DEFAULT."
   ]
  },
  {
   "cell_type": "markdown",
   "id": "ec4e1918",
   "metadata": {},
   "source": [
    "## Video 4\n",
    "\n",
    "El siguiente comando SQL calcula la edad actual del cliente:\n",
    "\n",
    "```sql\n",
    "SELECT DNI, EDAD, FECHA_NACIMIENTO, timestampdiff(YEAR, FECHA_NACIMIENTO, NOW()) AS ANOS FROM tb_clientes;\n",
    "```\n",
    "\n",
    "Construye un TRIGGER (Lo llamaremos TG_EDAD_CLIENTES_INSERT) que actualiza las edades de los clientes, en la tabla de clientes, siempre que la tabla sufra una inclusión.\n",
    "\n",
    "---\n",
    "\n",
    "```sql\n",
    "DELIMITER //\n",
    "CREATE TRIGGER TG_EDAD_CLIENTES_INSERT \n",
    "BEFORE INSERT ON tb_clientes\n",
    "FOR EACH ROW BEGIN\n",
    "SET NEW.EDAD = timestampdiff(YEAR, NEW.FECHA_NACIMIENTO, NOW());\n",
    "END//\n",
    "```"
   ]
  },
  {
   "cell_type": "markdown",
   "id": "f5fdbaa8",
   "metadata": {},
   "source": [
    "## Video 5\n",
    "\n",
    "¿Cuáles de los siguientes comandos pueden trabajar con TRIGGERs en MySQL?\n",
    "\n",
    "---\n",
    "\n",
    "Todas las anteriores.\n",
    "\n",
    "\n",
    "¡Alternativa correcta! Así es, los comandos INSERT, UPDATE y DELETE pueden trabajar con TRIGGERs en MySQL."
   ]
  },
  {
   "cell_type": "markdown",
   "id": "5add90be",
   "metadata": {},
   "source": [
    "## Video 6\n",
    "\n",
    "¿Cuál de los siguientes lenguajes de programación no sirve para manipular datos?\n",
    "\n",
    "---\n",
    "\n",
    "Ninguno de los anteriores.\n",
    "\n",
    "\n",
    "¡Alternativa correcta! Todos los programas anteriormente mencionados son muy útiles para trabajar con manipulación de datos."
   ]
  }
 ],
 "metadata": {
  "language_info": {
   "name": "python"
  }
 },
 "nbformat": 4,
 "nbformat_minor": 5
}
