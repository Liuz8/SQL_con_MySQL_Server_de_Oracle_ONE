{
 "cells": [
  {
   "cell_type": "markdown",
   "id": "8838b887",
   "metadata": {},
   "source": [
    "# Categorias de operaciones\n",
    "\n",
    "| Categoría                              | Qué hace                                              | Ejemplos                                                         |\n",
    "| -------------------------------------- | ----------------------------------------------------- | ---------------------------------------------------------------- |\n",
    "| **DDL** (Data Definition Language)     | Define o cambia la **estructura** de la base de datos | `CREATE`, `ALTER`, `DROP`, `TRUNCATE`                            |\n",
    "| **DML** (Data Manipulation Language)   | **Manipula los datos** dentro de la base              | `SELECT`, `INSERT`, `UPDATE`, `DELETE`                           |\n",
    "| **DCL** (Data Control Language)        | **Controla permisos** y seguridad                     | `GRANT`, `REVOKE`                                                |\n",
    "| **TCL** (Transaction Control Language) | Controla **transacciones**                            | `COMMIT`, `ROLLBACK`, `SAVEPOINT`                                |\n",
    "| **CRUD**                               | Resumen práctico de operaciones sobre datos           | Create = INSERT, Read = SELECT, Update = UPDATE, Delete = DELETE |\n"
   ]
  },
  {
   "cell_type": "markdown",
   "id": "0cf4fd68",
   "metadata": {},
   "source": [
    "# Caracteristicas de MYSQL\n",
    "\n",
    "* **Servidor robusto** → Estable y confiable, puede manejar muchos usuarios y transacciones simultáneas.\n",
    "* **Portabilidad** → Funciona en diferentes sistemas operativos (Windows, Linux, macOS).\n",
    "* **Multithreads** → Puede procesar múltiples conexiones al mismo tiempo, mejorando el rendimiento.\n",
    "* **Almacenamiento** → Soporta distintos motores de almacenamiento según necesidades (InnoDB, MyISAM, etc.).\n",
    "* **Velocidad** → Optimizado para consultas rápidas y eficiente en operaciones con grandes volúmenes de datos.\n",
    "* **Seguridad** → Control de usuarios, permisos y autenticación robusta.\n",
    "* **Capacidad** → Puede manejar grandes bases de datos y gran número de registros.\n",
    "* **Aplicabilidad** → Adecuado para aplicaciones web, móviles y empresariales.\n",
    "* **Logs** → Registra eventos y errores para auditoría y resolución de problemas."
   ]
  },
  {
   "cell_type": "markdown",
   "id": "cc01c12f",
   "metadata": {},
   "source": [
    "# Guia de instalacion de MySQL Workbench\n",
    "\n",
    "https://www.aluracursos.com/blog/descargar-mysql-serve"
   ]
  },
  {
   "cell_type": "markdown",
   "id": "87ab14fb",
   "metadata": {},
   "source": []
  }
 ],
 "metadata": {
  "language_info": {
   "name": "python"
  }
 },
 "nbformat": 4,
 "nbformat_minor": 5
}
